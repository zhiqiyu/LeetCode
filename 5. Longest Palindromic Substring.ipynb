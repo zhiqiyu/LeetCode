{
 "cells": [
  {
   "cell_type": "markdown",
   "metadata": {},
   "source": [
    "# 5. Longest Palindromic Substring\n",
    "\n",
    "Given a string s, find the longest palindromic substring in s. You may assume that the maximum length of s is 1000.\n",
    "\n",
    "Example 1:\n",
    "```\n",
    "Input: \"babad\"\n",
    "Output: \"bab\"\n",
    "Note: \"aba\" is also a valid answer.\n",
    "```\n",
    "\n",
    "Example 2:\n",
    "```\n",
    "Input: \"cbbd\"\n",
    "Output: \"bb\"\n",
    "```"
   ]
  },
  {
   "cell_type": "markdown",
   "metadata": {},
   "source": [
    "## Test cases:"
   ]
  },
  {
   "cell_type": "code",
   "execution_count": 136,
   "metadata": {},
   "outputs": [],
   "source": [
    "import time\n",
    "t1 = 'babad'\n",
    "t2 = 'cbbd'\n",
    "t3 = '3210123'\n",
    "t4 = \"321012321001232100123210012321001232100123210012321001232100123210012321001232100123210012321001232100123210012321001232100123210012321001232100123210012321001232100123210012321001232100123210012321001232100123210012321001232100123210012321001232100123210012321001232100123210012321001232100123210012321001232100123210012321001232100123210012321001232100123210012321001232100123210012321001232100123210012321001232100123210012321001232100123210012321001232100123210012321001232100123210012321001232100123210012321001232100123210012321001232100123210012321001232100123210012321001232100123210012321001232100123210012321001232100123210012321001232100123210012321001232100123210012321001232100123210012321001232100123210012321001232100123210012321001232100123210012321001232100123210012321001232100123210012321001232100123210012321001232100123210012321001232100123210012321001232100123210012321001232100123210012321001232100123210012321001232100123210012321001232100123210123210012321001232100123210123\""
   ]
  },
  {
   "cell_type": "markdown",
   "metadata": {},
   "source": [
    "## Solution 1: Brute force"
   ]
  },
  {
   "cell_type": "code",
   "execution_count": 24,
   "metadata": {},
   "outputs": [],
   "source": [
    "def longestPalindrome1(s):\n",
    "    \"\"\"\n",
    "    :type s: str\n",
    "    :rtype: str\n",
    "    \"\"\"\n",
    "    if len(s)<2:\n",
    "        return s\n",
    "    \n",
    "    longest = s[0]\n",
    "    for i in range(len(s)):\n",
    "        length = 2\n",
    "        while i+length <= len(s):\n",
    "            if s[i:i+length] == s[i:i+length][::-1] and length > len(longest):\n",
    "                longest = s[i:i+length]\n",
    "            length += 1\n",
    "    return longest"
   ]
  },
  {
   "cell_type": "code",
   "execution_count": 137,
   "metadata": {},
   "outputs": [
    {
     "data": {
      "text/plain": [
       "0.5265579223632812"
      ]
     },
     "execution_count": 137,
     "metadata": {},
     "output_type": "execute_result"
    }
   ],
   "source": [
    "time1 = time.time()\n",
    "longestPalindrome1(t4)\n",
    "time2 = time.time()\n",
    "time2 - time1"
   ]
  },
  {
   "cell_type": "markdown",
   "metadata": {},
   "source": [
    "## Solution 2: Dynamic Programming"
   ]
  },
  {
   "cell_type": "markdown",
   "metadata": {},
   "source": [
    "A bottom-up approach (build list from scratch):"
   ]
  },
  {
   "cell_type": "code",
   "execution_count": 101,
   "metadata": {},
   "outputs": [],
   "source": [
    "def longestPalindrome2(s):\n",
    "    l = len(s)\n",
    "    if l < 2:\n",
    "        return s\n",
    "    \n",
    "    dp = [[None]*l for i in range(l)]\n",
    "    longest = s[0]\n",
    "    \n",
    "    for m in range(l):\n",
    "        dp[m][m] = True\n",
    "        if m < l-1 and s[m] == s[m+1]:\n",
    "            dp[m][m+1] = True\n",
    "            longest = s[m:m+2]\n",
    "    \n",
    "    for i in range(l)[::-1]:  ######## Note: have to loop from back because dp[i+1][j-1] needs to be calculated first #######\n",
    "        for j in range(i+2, l):\n",
    "            if dp[i+1][j-1] == True and s[i] == s[j]:\n",
    "                dp[i][j] = True\n",
    "                if j-i+1 > len(longest):\n",
    "                    longest = s[i:j+1]                  \n",
    "    return longest"
   ]
  },
  {
   "cell_type": "code",
   "execution_count": 139,
   "metadata": {},
   "outputs": [
    {
     "data": {
      "text/plain": [
       "0.1075892448425293"
      ]
     },
     "execution_count": 139,
     "metadata": {},
     "output_type": "execute_result"
    }
   ],
   "source": [
    "time1 = time.time()\n",
    "longestPalindrome2(t4)\n",
    "time2 = time.time()\n",
    "time2 - time1"
   ]
  },
  {
   "cell_type": "markdown",
   "metadata": {},
   "source": [
    "## Solution 3: Expand from center"
   ]
  },
  {
   "cell_type": "code",
   "execution_count": 142,
   "metadata": {},
   "outputs": [],
   "source": [
    "def longestPalindrome3(s):\n",
    "    l = len(s)\n",
    "    if l < 2:\n",
    "        return s\n",
    "    longest = s[0]\n",
    "    for i in range(l):\n",
    "        offset = 0\n",
    "        while i-offset >=0 and i+offset < l:\n",
    "            if s[i-offset] == s[i+offset]:\n",
    "                if 2*offset + 1 > len(longest):\n",
    "                    longest = s[i-offset:i+offset+1]\n",
    "                offset += 1\n",
    "            else:\n",
    "                break\n",
    "    \n",
    "    for i in range(l-1):\n",
    "        offset = 1\n",
    "        while i+1-offset >= 0 and i+offset <l:\n",
    "            if s[i+1-offset] == s[i+offset]:\n",
    "                if 2*offset > len(longest):\n",
    "                    longest = s[i+1-offset:i+offset+1]\n",
    "                offset += 1\n",
    "            else:\n",
    "                break\n",
    "    return longest"
   ]
  },
  {
   "cell_type": "code",
   "execution_count": 146,
   "metadata": {},
   "outputs": [
    {
     "data": {
      "text/plain": [
       "0.03192639350891113"
      ]
     },
     "execution_count": 146,
     "metadata": {},
     "output_type": "execute_result"
    }
   ],
   "source": [
    "time1 = time.time()\n",
    "longestPalindrome3(t4)\n",
    "time2 = time.time()\n",
    "time2 - time1"
   ]
  }
 ],
 "metadata": {
  "kernelspec": {
   "display_name": "Python 3",
   "language": "python",
   "name": "python3"
  },
  "language_info": {
   "codemirror_mode": {
    "name": "ipython",
    "version": 3
   },
   "file_extension": ".py",
   "mimetype": "text/x-python",
   "name": "python",
   "nbconvert_exporter": "python",
   "pygments_lexer": "ipython3",
   "version": "3.6.3"
  }
 },
 "nbformat": 4,
 "nbformat_minor": 2
}
