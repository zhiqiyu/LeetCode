{
 "cells": [
  {
   "cell_type": "markdown",
   "metadata": {},
   "source": [
    "# 9. Palindrome Number\n",
    "\n",
    "Determine whether an integer is a palindrome. An integer is a palindrome when it reads the same backward as forward.\n",
    "\n",
    "Example 1:\n",
    "```\n",
    "Input: 121\n",
    "Output: true\n",
    "```\n",
    "\n",
    "Example 2:\n",
    "```\n",
    "Input: -121\n",
    "Output: false\n",
    "Explanation: From left to right, it reads -121. From right to left, it becomes 121-. Therefore it is not a palindrome.\n",
    "```\n",
    "Example 3:\n",
    "```\n",
    "Input: 10\n",
    "Output: false\n",
    "Explanation: Reads 01 from right to left. Therefore it is not a palindrome.\n",
    "```"
   ]
  },
  {
   "cell_type": "markdown",
   "metadata": {},
   "source": [
    "## test cases:"
   ]
  },
  {
   "cell_type": "code",
   "execution_count": 4,
   "metadata": {},
   "outputs": [],
   "source": [
    "a = 121\n",
    "b = -212\n",
    "c = 10\n",
    "d = 1456886541"
   ]
  },
  {
   "cell_type": "markdown",
   "metadata": {},
   "source": [
    "## Solution 1:\n",
    "\n",
    "Convert number to string"
   ]
  },
  {
   "cell_type": "code",
   "execution_count": 5,
   "metadata": {},
   "outputs": [],
   "source": [
    "def isPalindrome_1(x):\n",
    "    \"\"\"\n",
    "    :type x: int\n",
    "    :rtype: bool\n",
    "    \"\"\"\n",
    "    if x < 0:\n",
    "        return False\n",
    "    elif x < 10:\n",
    "        return True\n",
    "    else:\n",
    "        s = str(x)\n",
    "        flag = True\n",
    "        for i in range(len(s)//2):\n",
    "            if s[i] == s[-i-1]:\n",
    "                continue\n",
    "            else:\n",
    "                flag = False\n",
    "        return flag"
   ]
  },
  {
   "cell_type": "code",
   "execution_count": 6,
   "metadata": {},
   "outputs": [
    {
     "name": "stdout",
     "output_type": "stream",
     "text": [
      "1.1 µs ± 74.9 ns per loop (mean ± std. dev. of 7 runs, 1000000 loops each)\n"
     ]
    }
   ],
   "source": [
    "%timeit isPalindrome_1(d)"
   ]
  },
  {
   "cell_type": "markdown",
   "metadata": {},
   "source": [
    "## Solution 2:\n",
    "\n",
    "simple solution with conversion to string"
   ]
  },
  {
   "cell_type": "code",
   "execution_count": 7,
   "metadata": {},
   "outputs": [],
   "source": [
    "def isPalindrome_2(x):\n",
    "    return str(x)==str(x)[::-1]"
   ]
  },
  {
   "cell_type": "code",
   "execution_count": 8,
   "metadata": {},
   "outputs": [
    {
     "name": "stdout",
     "output_type": "stream",
     "text": [
      "795 ns ± 341 ns per loop (mean ± std. dev. of 7 runs, 1000000 loops each)\n"
     ]
    }
   ],
   "source": [
    "%timeit isPalindrome_2(d)"
   ]
  },
  {
   "cell_type": "markdown",
   "metadata": {},
   "source": [
    "## Solution 3:\n",
    "\n",
    "No conversion to string"
   ]
  },
  {
   "cell_type": "code",
   "execution_count": 9,
   "metadata": {},
   "outputs": [],
   "source": [
    "def isPalindrome_3(x):\n",
    "    \"\"\"\n",
    "    :type x: int\n",
    "    :rtype: bool\n",
    "    \"\"\"\n",
    "    if x < 0 or (x > 0 and x % 10 == 0):\n",
    "        return False\n",
    "\n",
    "    rev = 0\n",
    "    while rev < x:\n",
    "        rev = rev * 10 + x % 10\n",
    "        x = x // 10\n",
    "    if rev == x or rev // 10 == x:\n",
    "        return True\n",
    "    else: \n",
    "        return False"
   ]
  },
  {
   "cell_type": "code",
   "execution_count": 10,
   "metadata": {},
   "outputs": [
    {
     "name": "stdout",
     "output_type": "stream",
     "text": [
      "1 µs ± 66.5 ns per loop (mean ± std. dev. of 7 runs, 1000000 loops each)\n"
     ]
    }
   ],
   "source": [
    "%timeit isPalindrome_3(d)"
   ]
  }
 ],
 "metadata": {
  "kernelspec": {
   "display_name": "Python 3",
   "language": "python",
   "name": "python3"
  },
  "language_info": {
   "codemirror_mode": {
    "name": "ipython",
    "version": 3
   },
   "file_extension": ".py",
   "mimetype": "text/x-python",
   "name": "python",
   "nbconvert_exporter": "python",
   "pygments_lexer": "ipython3",
   "version": "3.6.3"
  }
 },
 "nbformat": 4,
 "nbformat_minor": 2
}
