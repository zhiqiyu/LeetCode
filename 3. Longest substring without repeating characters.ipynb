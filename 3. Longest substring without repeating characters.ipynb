{
 "cells": [
  {
   "cell_type": "markdown",
   "metadata": {},
   "source": [
    "# 3. Longest substring without repeating characters\n",
    "\n",
    "Given a string, find the length of the **longest substring** without repeating characters.\n",
    "\n",
    "**Example 1:**\n",
    "\n",
    "**Input**: \"abcabcbb\"  \n",
    "**Output**: 3  \n",
    "**Explanation**: The answer is \"abc\", with the length of 3. \n",
    "\n",
    "**Example 2:**\n",
    "\n",
    "**Input**: \"bbbbb\"  \n",
    "**Output**: 1  \n",
    "**Explanation**: The answer is \"b\", with the length of 1.  \n",
    "\n",
    "**Example 3:**\n",
    "\n",
    "**Input**: \"pwwkew\"  \n",
    "**Output**: 3  \n",
    "**Explanation**: The answer is \"wke\", with the length of 3. (Note that the answer must be a substring, \"pwke\" is a subsequence and not a substring.)"
   ]
  },
  {
   "cell_type": "code",
   "execution_count": null,
   "metadata": {},
   "outputs": [],
   "source": []
  }
 ],
 "metadata": {
  "kernelspec": {
   "display_name": "Python 3",
   "language": "python",
   "name": "python3"
  },
  "language_info": {
   "codemirror_mode": {
    "name": "ipython",
    "version": 3
   },
   "file_extension": ".py",
   "mimetype": "text/x-python",
   "name": "python",
   "nbconvert_exporter": "python",
   "pygments_lexer": "ipython3",
   "version": "3.6.3"
  }
 },
 "nbformat": 4,
 "nbformat_minor": 2
}
