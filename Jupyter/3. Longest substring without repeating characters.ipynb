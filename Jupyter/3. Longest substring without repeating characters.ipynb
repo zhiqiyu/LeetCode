{
 "cells": [
  {
   "cell_type": "markdown",
   "metadata": {},
   "source": [
    "# 3. Longest substring without repeating characters\n",
    "\n",
    "Given a string, find the length of the **longest substring** without repeating characters.\n",
    "\n",
    "**Example 1:**\n",
    "\n",
    "**Input**: \"abcabcbb\"  \n",
    "**Output**: 3  \n",
    "**Explanation**: The answer is \"abc\", with the length of 3. \n",
    "\n",
    "**Example 2:**\n",
    "\n",
    "**Input**: \"bbbbb\"  \n",
    "**Output**: 1  \n",
    "**Explanation**: The answer is \"b\", with the length of 1.  \n",
    "\n",
    "**Example 3:**\n",
    "\n",
    "**Input**: \"pwwkew\"  \n",
    "**Output**: 3  \n",
    "**Explanation**: The answer is \"wke\", with the length of 3. (Note that the answer must be a substring, \"pwke\" is a subsequence and not a substring.)"
   ]
  },
  {
   "cell_type": "markdown",
   "metadata": {},
   "source": [
    "### Set up testing cases"
   ]
  },
  {
   "cell_type": "code",
   "execution_count": 1,
   "metadata": {},
   "outputs": [],
   "source": [
    "# case 1:\n",
    "case1 = 'dvdf' # should be 2\n",
    "\n",
    "# case 2:\n",
    "case2 = 'abcabcbb' # should be 3\n",
    "\n",
    "# case 3:\n",
    "case3 = 'pwwpvd' # should be 4"
   ]
  },
  {
   "cell_type": "markdown",
   "metadata": {},
   "source": [
    "## Solution 1: brute force"
   ]
  },
  {
   "cell_type": "code",
   "execution_count": 2,
   "metadata": {},
   "outputs": [],
   "source": [
    "def lengthOfLongestSubstring(s):\n",
    "    \"\"\"\n",
    "    :type s: str\n",
    "    :rtype: int\n",
    "    \"\"\"\n",
    "    sub_list = []\n",
    "    for i in range(len(s)):\n",
    "        sub_list.append(s[i])\n",
    "        for j in range(i+1, len(s)):\n",
    "            if s[j] not in s[i:j]:\n",
    "                sub_list.append(s[i:j+1])\n",
    "            else:\n",
    "                break\n",
    "    if len(sub_list) == 0:\n",
    "        return 0\n",
    "    else:\n",
    "        return len(sorted(sub_list, key=lambda x: len(x))[-1])"
   ]
  },
  {
   "cell_type": "code",
   "execution_count": 3,
   "metadata": {},
   "outputs": [
    {
     "data": {
      "text/plain": [
       "4"
      ]
     },
     "execution_count": 3,
     "metadata": {},
     "output_type": "execute_result"
    }
   ],
   "source": [
    "lengthOfLongestSubstring(case3)"
   ]
  },
  {
   "cell_type": "markdown",
   "metadata": {},
   "source": [
    "## Solution 2: Sliding window\n",
    "\n",
    "In the naive approaches, we repeatedly check a substring to see if it has duplicate character. But it is unnecessary. If a substring s_ij.\n",
    "\t\n",
    " from index ii to j - 1j−1 is already checked to have no duplicate characters. We only need to check if s[j]s[j] is already in the substring s_ij.\n",
    "\n",
    "To check if a character is already in the substring, we can scan the substring, which leads to an O(n^2) algorithm. But we can do better.\n",
    "\n",
    "By using HashSet as a sliding window, checking if a character in the current can be done in O(1).\n",
    "\n",
    "A sliding window is an abstract concept commonly used in array/string problems. A window is a range of elements in the array/string which usually defined by the start and end indices, i.e. \\[i, j)[i,j) (left-closed, right-open). A sliding window is a window \"slides\" its two boundaries to the certain direction. For example, if we slide [i, j)[i,j) to the right by 11 element, then it becomes [i+1, j+1)[i+1,j+1) (left-closed, right-open).\n",
    "\n",
    "Back to our problem. We use HashSet to store the characters in current window [i, j)[i,j) (j = ij=i initially). Then we slide the index jj to the right. If it is not in the HashSet, we slide jj further. Doing so until s[j] is already in the HashSet. At this point, we found the maximum size of substrings without duplicate characters start with index ii. If we do this for all ii, we get our answer."
   ]
  }
 ],
 "metadata": {
  "kernelspec": {
   "display_name": "Python 3",
   "language": "python",
   "name": "python3"
  },
  "language_info": {
   "codemirror_mode": {
    "name": "ipython",
    "version": 3
   },
   "file_extension": ".py",
   "mimetype": "text/x-python",
   "name": "python",
   "nbconvert_exporter": "python",
   "pygments_lexer": "ipython3",
   "version": "3.6.3"
  }
 },
 "nbformat": 4,
 "nbformat_minor": 2
}
