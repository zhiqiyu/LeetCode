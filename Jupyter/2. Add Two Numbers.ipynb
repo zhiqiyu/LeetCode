{
 "cells": [
  {
   "cell_type": "markdown",
   "metadata": {},
   "source": [
    "# 2. Add Two Numbers\n",
    "\n",
    "You are given two **non-empty** linked lists representing two non-negative integers. The digits are stored in **reverse order** and each of their nodes contain a single digit. Add the two numbers and return it as a linked list.\n",
    "\n",
    "You may assume the two numbers do not contain any leading zero, except the number 0 itself.\n",
    "\n",
    "**Example:**\n",
    "\n",
    "Input: (2 -> 4 -> 3) + (5 -> 6 -> 4)   \n",
    "Output: 7 -> 0 -> 8  \n",
    "Explanation: 342 + 465 = 807."
   ]
  },
  {
   "cell_type": "markdown",
   "metadata": {},
   "source": [
    "### Set up testing variables"
   ]
  },
  {
   "cell_type": "code",
   "execution_count": 137,
   "metadata": {},
   "outputs": [],
   "source": [
    "# Definition for singly-linked list.\n",
    "class ListNode:\n",
    "    def __init__(self, x):\n",
    "        self.val = x\n",
    "        self.next = None\n",
    "        \n",
    "    def printlist(self):\n",
    "        list_str = \"\"\n",
    "        ptr = self\n",
    "        while ptr != None:\n",
    "            list_str = list_str + str(ptr.val)\n",
    "            ptr = ptr.next\n",
    "            if ptr != None:\n",
    "                list_str = list_str + '->'\n",
    "        print(list_str)\n",
    "\n",
    "# test case 1:\n",
    "l1 = ListNode(2)\n",
    "l1.next = ListNode(4)\n",
    "l1.next.next = ListNode(3)\n",
    "\n",
    "l2 = ListNode(5)\n",
    "l2.next = ListNode(6)\n",
    "l2.next.next = ListNode(4)\n",
    "\n",
    "# test case 2:\n",
    "l3 = ListNode(8)\n",
    "l3.next = ListNode(9)\n",
    "l3.next.next = ListNode(9)\n",
    "\n",
    "l4 = ListNode(2)"
   ]
  },
  {
   "cell_type": "markdown",
   "metadata": {},
   "source": [
    "### Solution 1: Brute Force\n",
    "\n",
    "Calculate the digit-by-digit sum by passing through the two input lists, add the sums of all digits and construct result linked list."
   ]
  },
  {
   "cell_type": "code",
   "execution_count": 138,
   "metadata": {},
   "outputs": [],
   "source": [
    "def addTwoNumbers_bf(l1, l2):\n",
    "    \"\"\"\n",
    "    :type l1: ListNode\n",
    "    :type l2: ListNode\n",
    "    :rtype: ListNode\n",
    "    \"\"\"\n",
    "    l1_ptr = l1\n",
    "    l2_ptr = l2\n",
    "    sum_results = []\n",
    "    while l1_ptr != None and l2_ptr != None:\n",
    "        sum_results.append(l1_ptr.val + l2_ptr.val)\n",
    "        l1_ptr = l1_ptr.next\n",
    "        l2_ptr = l2_ptr.next\n",
    "    \n",
    "    if l1_ptr == None:\n",
    "        while l2_ptr != None:\n",
    "            sum_results.append(l2_ptr.val)\n",
    "            l2_ptr = l2_ptr.next\n",
    "    if l2_ptr == None:\n",
    "        while l1_ptr != None:\n",
    "            sum_results.append(l1_ptr.val)\n",
    "            l1_ptr = l1_ptr.next\n",
    "    \n",
    "    result = 0\n",
    "    for i in range(len(sum_results)):\n",
    "        result = result + pow(10, i)*sum_results[i]\n",
    "    \n",
    "    start = ListNode(result%10)\n",
    "    j = 1\n",
    "    ptr = start\n",
    "    while result//pow(10, j) >= 1:\n",
    "        ptr.next = ListNode(result//pow(10, j)%10)\n",
    "        ptr = ptr.next\n",
    "        j = j+1\n",
    "    return start "
   ]
  },
  {
   "cell_type": "code",
   "execution_count": 140,
   "metadata": {},
   "outputs": [
    {
     "name": "stdout",
     "output_type": "stream",
     "text": [
      "5.09 µs ± 142 ns per loop (mean ± std. dev. of 7 runs, 100000 loops each)\n",
      "7->0->8\n"
     ]
    }
   ],
   "source": [
    "%timeit addTwoNumbers_bf(l1, l2)\n",
    "a1 = addTwoNumbers_bf(l1, l2)\n",
    "a1.printlist()"
   ]
  },
  {
   "cell_type": "code",
   "execution_count": 141,
   "metadata": {},
   "outputs": [
    {
     "name": "stdout",
     "output_type": "stream",
     "text": [
      "5.9 µs ± 24.4 ns per loop (mean ± std. dev. of 7 runs, 100000 loops each)\n",
      "0->0->0->1\n"
     ]
    }
   ],
   "source": [
    "%timeit addTwoNumbers_bf(l3, l4)\n",
    "a2 = addTwoNumbers_bf(l3, l4)\n",
    "a2.printlist()"
   ]
  },
  {
   "cell_type": "markdown",
   "metadata": {},
   "source": [
    "### Solution 2: Simpler version\n",
    "\n",
    "Calculate digit by digit, and create the result linked list on the fly. **Note: Don't forget to check the carry digit after l1 and l2 reach ends**."
   ]
  },
  {
   "cell_type": "code",
   "execution_count": 156,
   "metadata": {},
   "outputs": [],
   "source": [
    "def addTwoNumbers_op(l1, l2):\n",
    "    \"\"\"\n",
    "    :type l1: ListNode\n",
    "    :type l2: ListNode\n",
    "    :rtype: ListNode\n",
    "    \"\"\"        \n",
    "    ptr1 = l1\n",
    "    ptr2 = l2\n",
    "    dummystart = ListNode(0)\n",
    "    ptr = dummystart\n",
    "    carry_digit = 0\n",
    "    \n",
    "    while ptr1 != None or ptr2 != None:\n",
    "        digit1, digit2 = (0, 0)\n",
    "        if ptr1 != None:\n",
    "            digit1 = ptr1.val\n",
    "            ptr1 = ptr1.next\n",
    "        if ptr2 != None:\n",
    "            digit2 = ptr2.val\n",
    "            ptr2 = ptr2.next\n",
    "            \n",
    "        digit_sum = digit1 + digit2 + carry_digit\n",
    "        # carry digit calculation\n",
    "        if digit_sum < 10:\n",
    "            ptr.next = ListNode(digit_sum)\n",
    "            ptr = ptr.next\n",
    "            carry_digit = 0\n",
    "        else:\n",
    "            carry_digit = digit_sum//10\n",
    "            ptr.next = ListNode(digit_sum%10)\n",
    "            ptr = ptr.next\n",
    "    \n",
    "    if carry_digit != 0:\n",
    "        ptr.next = ListNode(carry_digit)\n",
    "        \n",
    "    return dummystart.next"
   ]
  },
  {
   "cell_type": "code",
   "execution_count": 157,
   "metadata": {},
   "outputs": [
    {
     "name": "stdout",
     "output_type": "stream",
     "text": [
      "2.37 µs ± 33 ns per loop (mean ± std. dev. of 7 runs, 100000 loops each)\n",
      "7->0->8\n"
     ]
    }
   ],
   "source": [
    "%timeit addTwoNumbers_op(l1, l2)\n",
    "b1 = addTwoNumbers_op(l1, l2)\n",
    "b1.printlist()"
   ]
  },
  {
   "cell_type": "code",
   "execution_count": 158,
   "metadata": {},
   "outputs": [
    {
     "name": "stdout",
     "output_type": "stream",
     "text": [
      "2.59 µs ± 10.3 ns per loop (mean ± std. dev. of 7 runs, 100000 loops each)\n",
      "0->0->0->1\n"
     ]
    }
   ],
   "source": [
    "%timeit addTwoNumbers_op(l3, l4)\n",
    "b2 = addTwoNumbers_op(l3, l4)\n",
    "b2.printlist()"
   ]
  },
  {
   "cell_type": "markdown",
   "metadata": {},
   "source": [
    "### Solution 3: Very concise version"
   ]
  },
  {
   "cell_type": "code",
   "execution_count": 162,
   "metadata": {},
   "outputs": [],
   "source": [
    "def addTwoNumbers_simple(l1, l2):\n",
    "    dummy = cur = ListNode(0)\n",
    "    carry = 0\n",
    "    while l1 or l2 or carry:\n",
    "        if l1:\n",
    "            carry += l1.val\n",
    "            l1 = l1.next\n",
    "        if l2:\n",
    "            carry += l2.val\n",
    "            l2 = l2.next\n",
    "        cur.next = ListNode(carry%10)\n",
    "        cur = cur.next\n",
    "        carry //= 10\n",
    "    return dummy.next"
   ]
  },
  {
   "cell_type": "code",
   "execution_count": 163,
   "metadata": {},
   "outputs": [
    {
     "name": "stdout",
     "output_type": "stream",
     "text": [
      "2.07 µs ± 36.6 ns per loop (mean ± std. dev. of 7 runs, 100000 loops each)\n",
      "7->0->8\n"
     ]
    }
   ],
   "source": [
    "%timeit addTwoNumbers_simple(l1, l2)\n",
    "c1 = addTwoNumbers_op(l1, l2)\n",
    "c1.printlist()"
   ]
  },
  {
   "cell_type": "code",
   "execution_count": 164,
   "metadata": {},
   "outputs": [
    {
     "name": "stdout",
     "output_type": "stream",
     "text": [
      "2.62 µs ± 110 ns per loop (mean ± std. dev. of 7 runs, 100000 loops each)\n",
      "0->0->0->1\n"
     ]
    }
   ],
   "source": [
    "%timeit addTwoNumbers_simple(l3, l4)\n",
    "c2 = addTwoNumbers_op(l3, l4)\n",
    "c2.printlist()"
   ]
  },
  {
   "cell_type": "markdown",
   "metadata": {},
   "source": [
    "## Lesson Learnt\n",
    "\n",
    "* single-direction linked list can create a dummy head. \n",
    "* instead of moving cursor then create the next object, create next object then move the cursor to the next seems better."
   ]
  }
 ],
 "metadata": {
  "kernelspec": {
   "display_name": "Python 3",
   "language": "python",
   "name": "python3"
  },
  "language_info": {
   "codemirror_mode": {
    "name": "ipython",
    "version": 3
   },
   "file_extension": ".py",
   "mimetype": "text/x-python",
   "name": "python",
   "nbconvert_exporter": "python",
   "pygments_lexer": "ipython3",
   "version": "3.6.3"
  }
 },
 "nbformat": 4,
 "nbformat_minor": 2
}
