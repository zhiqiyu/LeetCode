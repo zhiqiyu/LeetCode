{
 "cells": [
  {
   "cell_type": "markdown",
   "metadata": {},
   "source": [
    "# 8. String to Integer (atoi)\n",
    "\n",
    "Implement atoi which converts a string to an integer.\n",
    "\n",
    "The function first discards as many whitespace characters as necessary until the first non-whitespace character is found. Then, starting from this character, takes an optional initial plus or minus sign followed by as many numerical digits as possible, and interprets them as a numerical value.\n",
    "\n",
    "The string can contain additional characters after those that form the integral number, which are ignored and have no effect on the behavior of this function.\n",
    "\n",
    "If the first sequence of non-whitespace characters in str is not a valid integral number, or if no such sequence exists because either str is empty or it contains only whitespace characters, no conversion is performed.\n",
    "\n",
    "If no valid conversion could be performed, a zero value is returned.\n",
    "\n",
    "Note:\n",
    "\n",
    "Only the space character ' ' is considered as whitespace character.\n",
    "Assume we are dealing with an environment which could only store integers within the 32-bit signed integer range: [−231,  231 − 1]. If the numerical value is out of the range of representable values, INT_MAX (231 − 1) or INT_MIN (−231) is returned.\n",
    "\n",
    "Example 1:\n",
    "```\n",
    "Input: \"42\"\n",
    "Output: 42\n",
    "```\n",
    "\n",
    "Example 2:\n",
    "```\n",
    "Input: \"   -42\"\n",
    "Output: -42\n",
    "Explanation: The first non-whitespace character is '-', which is the minus sign.\n",
    "             Then take as many numerical digits as possible, which gets 42.\n",
    "```\n",
    "\n",
    "Example 3:\n",
    "```\n",
    "Input: \"4193 with words\"\n",
    "Output: 4193\n",
    "Explanation: Conversion stops at digit '3' as the next character is not a numerical digit.\n",
    "```\n",
    "\n",
    "Example 4:\n",
    "```\n",
    "Input: \"words and 987\"\n",
    "Output: 0\n",
    "Explanation: The first non-whitespace character is 'w', which is not a numerical \n",
    "             digit or a +/- sign. Therefore no valid conversion could be performed.\n",
    "```\n",
    "\n",
    "Example 5:\n",
    "```\n",
    "Input: \"-91283472332\"\n",
    "Output: -2147483648\n",
    "Explanation: The number \"-91283472332\" is out of the range of a 32-bit signed integer.\n",
    "             Thefore INT_MIN (−231) is returned.\n",
    "```"
   ]
  },
  {
   "cell_type": "markdown",
   "metadata": {},
   "source": [
    "## Test cases"
   ]
  },
  {
   "cell_type": "code",
   "execution_count": 1,
   "metadata": {},
   "outputs": [],
   "source": [
    "a = 'words and 987'\n",
    "b = '   -42'\n",
    "c = '-91283472332'"
   ]
  },
  {
   "cell_type": "markdown",
   "metadata": {},
   "source": [
    "## Solution 1:"
   ]
  },
  {
   "cell_type": "code",
   "execution_count": 5,
   "metadata": {},
   "outputs": [],
   "source": [
    "def myAtoi_1(str):\n",
    "    \"\"\"\n",
    "    :type str: str\n",
    "    :rtype: int\n",
    "    \"\"\"\n",
    "    numpool = ['0', '1', '2', '3', '4', '5', '6', '7', '8', '9']\n",
    "    start = 0\n",
    "    sign = 1\n",
    "    num = \"\"\n",
    "    for s in str:\n",
    "        if start:\n",
    "            if s in numpool:\n",
    "                num += s\n",
    "            else:\n",
    "                start = 0\n",
    "                break\n",
    "        else:\n",
    "            if s == ' ':\n",
    "                continue\n",
    "            elif s == '-':\n",
    "                sign = -1\n",
    "                start = 1\n",
    "            elif s == '+':\n",
    "                start = 1\n",
    "            elif s in numpool:\n",
    "                start = 1\n",
    "                num += s\n",
    "            else:\n",
    "                return 0\n",
    "    if len(num) != 0:\n",
    "        if sign == 1:\n",
    "            return min(pow(2, 31)-1, int(num))\n",
    "        elif sign == -1:\n",
    "            return sign*min(pow(2, 31), int(num))\n",
    "    else:\n",
    "        return 0"
   ]
  },
  {
   "cell_type": "code",
   "execution_count": 14,
   "metadata": {},
   "outputs": [
    {
     "name": "stdout",
     "output_type": "stream",
     "text": [
      "474 ns ± 40.7 ns per loop (mean ± std. dev. of 7 runs, 1000000 loops each)\n"
     ]
    }
   ],
   "source": [
    "%timeit myAtoi_1(a)"
   ]
  },
  {
   "cell_type": "markdown",
   "metadata": {},
   "source": [
    "## Solution 2:"
   ]
  },
  {
   "cell_type": "code",
   "execution_count": 11,
   "metadata": {},
   "outputs": [],
   "source": [
    "def myAtoi_2(s):\n",
    "    \"\"\"\n",
    "    :type str: str\n",
    "    :rtype: int\n",
    "    \"\"\"\n",
    "    ###better to do strip before sanity check (although 8ms slower):\n",
    "    ls = list(s.strip())\n",
    "    if len(ls) == 0 : return 0\n",
    "#     if len(s) == 0 : return 0\n",
    "#     ls = list(s.strip())\n",
    "\n",
    "    sign = -1 if ls[0] == '-' else 1\n",
    "    if ls[0] in ['-','+'] : del ls[0]\n",
    "    ret, i = 0, 0\n",
    "    while i < len(ls) and ls[i].isdigit() :\n",
    "        ret = ret*10 + ord(ls[i]) - ord('0')\n",
    "        i += 1\n",
    "    return max(-2**31, min(sign * ret,2**31-1))"
   ]
  },
  {
   "cell_type": "code",
   "execution_count": 13,
   "metadata": {},
   "outputs": [
    {
     "name": "stdout",
     "output_type": "stream",
     "text": [
      "1.07 µs ± 34.8 ns per loop (mean ± std. dev. of 7 runs, 1000000 loops each)\n"
     ]
    }
   ],
   "source": [
    "%timeit myAtoi_2(a)"
   ]
  }
 ],
 "metadata": {
  "kernelspec": {
   "display_name": "Python 3",
   "language": "python",
   "name": "python3"
  },
  "language_info": {
   "codemirror_mode": {
    "name": "ipython",
    "version": 3
   },
   "file_extension": ".py",
   "mimetype": "text/x-python",
   "name": "python",
   "nbconvert_exporter": "python",
   "pygments_lexer": "ipython3",
   "version": "3.6.3"
  }
 },
 "nbformat": 4,
 "nbformat_minor": 2
}
